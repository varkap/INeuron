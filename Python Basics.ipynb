{
 "cells": [
  {
   "cell_type": "markdown",
   "metadata": {},
   "source": [
    "## Python v. R - Why Python?\n",
    "1. Python is all rounder\n",
    "    - Web Apps\n",
    "    - Model Development\n",
    "    - Libraries\n",
    "2. R doesn't have many Deep Learning Libraries\n",
    "3. Python has more jobs\n",
    "\n",
    "#### Julia can be an upcomer since its faster than Python and has more upcoming libraries"
   ]
  },
  {
   "cell_type": "code",
   "execution_count": 2,
   "metadata": {},
   "outputs": [
    {
     "name": "stdout",
     "output_type": "stream",
     "text": [
      "1\n",
      "2\n",
      "2.5\n"
     ]
    }
   ],
   "source": [
    "# % = modulus = remainder\n",
    "print(5%2) # 1\n",
    "# // = division (whole)\n",
    "print(5//2) # 2\n",
    "# / = division (fractional)\n",
    "print(5/2) #2.5"
   ]
  },
  {
   "cell_type": "markdown",
   "metadata": {},
   "source": [
    "## Boolean Operators\n",
    "1. or = | True when one is True\n",
    "2. and = & True when both are True \n",
    "3. not = ! True when False"
   ]
  },
  {
   "cell_type": "markdown",
   "metadata": {},
   "source": [
    "## DO NOT USE RESERVED KEYWORDS AS VARIABLES!  "
   ]
  },
  {
   "cell_type": "code",
   "execution_count": 6,
   "metadata": {},
   "outputs": [
    {
     "data": {
      "text/plain": [
       "5"
      ]
     },
     "execution_count": 6,
     "metadata": {},
     "output_type": "execute_result"
    }
   ],
   "source": [
    "# In the console output, outputs automatically \n",
    "#    get converted to string values\n",
    "a = 5\n",
    "a"
   ]
  },
  {
   "cell_type": "code",
   "execution_count": 8,
   "metadata": {},
   "outputs": [
    {
     "name": "stdout",
     "output_type": "stream",
     "text": [
      "Hi, I'm Varun!\n",
      "Hi, I'm   Varun!\n"
     ]
    }
   ],
   "source": [
    "str1 = \"Hi, I'm\"\n",
    "str2 = \"Varun!\"\n",
    "print(str1,str2)\n",
    "print(str1, \" \", str2)"
   ]
  },
  {
   "cell_type": "code",
   "execution_count": 10,
   "metadata": {},
   "outputs": [
    {
     "name": "stdout",
     "output_type": "stream",
     "text": [
      "Enter name?Varun\n",
      "Hi, Varun\n"
     ]
    }
   ],
   "source": [
    "# input\n",
    "name = input(\"Enter name?\")\n",
    "print(\"Hi,\", name)"
   ]
  },
  {
   "cell_type": "code",
   "execution_count": 11,
   "metadata": {},
   "outputs": [
    {
     "name": "stdout",
     "output_type": "stream",
     "text": [
      "A = 5\n",
      "B = 15.4\n",
      "20.4\n"
     ]
    }
   ],
   "source": [
    "# type casting\n",
    "a = float(input(\"A = \"))\n",
    "b = float(input(\"B = \"))\n",
    "c = a + b\n",
    "print(c)"
   ]
  },
  {
   "cell_type": "code",
   "execution_count": 14,
   "metadata": {},
   "outputs": [
    {
     "name": "stdout",
     "output_type": "stream",
     "text": [
      "First Name?V\n",
      "Last Name?K\n",
      "My first name is V and last name is K\n",
      "My first name is V and last name is K\n"
     ]
    }
   ],
   "source": [
    "# Formatting\n",
    "fName = input(\"First Name?\")\n",
    "lName = input(\"Last Name?\")\n",
    "print(\"My first name is {} and last name is {}\".\n",
    "      format(fName, lName))\n",
    "print(\"My first name is {f} and last name is {l}\".\n",
    "      format(l=lName, f=fName))"
   ]
  },
  {
   "cell_type": "markdown",
   "metadata": {},
   "source": [
    "## Variable Dynamic Typing\n",
    "- Type of the variables are inferred\n",
    "    - implicitly defined"
   ]
  },
  {
   "cell_type": "code",
   "execution_count": 15,
   "metadata": {},
   "outputs": [
    {
     "name": "stdout",
     "output_type": "stream",
     "text": [
      "<class 'str'>\n",
      "<class 'int'>\n"
     ]
    }
   ],
   "source": [
    "a = \"Hi\"\n",
    "print(type(a))\n",
    "a = 1\n",
    "print(type(a))"
   ]
  },
  {
   "cell_type": "code",
   "execution_count": 18,
   "metadata": {},
   "outputs": [
    {
     "ename": "TypeError",
     "evalue": "unsupported operand type(s) for +: 'int' and 'str'",
     "output_type": "error",
     "traceback": [
      "\u001b[1;31m---------------------------------------------------------------------------\u001b[0m",
      "\u001b[1;31mTypeError\u001b[0m                                 Traceback (most recent call last)",
      "\u001b[1;32m<ipython-input-18-4d9ccc26deec>\u001b[0m in \u001b[0;36m<module>\u001b[1;34m\u001b[0m\n\u001b[0;32m      1\u001b[0m \u001b[1;31m## Strong Typing\u001b[0m\u001b[1;33m\u001b[0m\u001b[1;33m\u001b[0m\u001b[1;33m\u001b[0m\u001b[0m\n\u001b[0;32m      2\u001b[0m \u001b[1;36m1\u001b[0m \u001b[1;33m+\u001b[0m \u001b[0mint\u001b[0m\u001b[1;33m(\u001b[0m\u001b[1;34m\"2\"\u001b[0m\u001b[1;33m)\u001b[0m \u001b[1;31m# - Good\u001b[0m\u001b[1;33m\u001b[0m\u001b[1;33m\u001b[0m\u001b[0m\n\u001b[1;32m----> 3\u001b[1;33m \u001b[1;36m1\u001b[0m \u001b[1;33m+\u001b[0m \u001b[1;34m\"2\"\u001b[0m      \u001b[1;31m# - Error!\u001b[0m\u001b[1;33m\u001b[0m\u001b[1;33m\u001b[0m\u001b[0m\n\u001b[0m",
      "\u001b[1;31mTypeError\u001b[0m: unsupported operand type(s) for +: 'int' and 'str'"
     ]
    }
   ],
   "source": [
    "## Strong Typing\n",
    "1 + int(\"2\") # - Good\n",
    "1 + \"2\"      # - Error!"
   ]
  },
  {
   "cell_type": "markdown",
   "metadata": {},
   "source": [
    "## Conditional Statements"
   ]
  },
  {
   "cell_type": "code",
   "execution_count": 20,
   "metadata": {},
   "outputs": [
    {
     "name": "stdout",
     "output_type": "stream",
     "text": [
      "Enter number 1: 5\n",
      "Enter number 2: 3\n",
      "5 is more than 3\n"
     ]
    }
   ],
   "source": [
    "a = int(input(\"Enter number 1: \"))\n",
    "b = int(input(\"Enter number 2: \"))\n",
    "if a < b:\n",
    "    print(\"{} is less than {}\".format(a, b))\n",
    "elif a > b:\n",
    "    print(\"{} is more than {}\".format(a, b))\n",
    "else:\n",
    "    print(\"Both are equal!\")"
   ]
  },
  {
   "cell_type": "markdown",
   "metadata": {},
   "source": [
    "## Data Structures\n",
    "1. Lists\n",
    "    - You can put anythign in a list\n",
    "    - lst = [1, \"Hi\", 5.4, True]\n",
    "    - calling: lst[3] => True\n",
    "    - convert to list: list(list_name)\n",
    "    - add to end: lst.append(\"Something\")\n",
    "    - remove: lst.remove(5.4)\n",
    "2. Tuples\n",
    "3. Strings\n",
    "    - String does not support item assignment\n",
    "        - String is IMMUTABLE\n",
    "    - \n",
    "4. Dictionaries\n",
    "5. Sets"
   ]
  }
 ],
 "metadata": {
  "kernelspec": {
   "display_name": "Python 3",
   "language": "python",
   "name": "python3"
  },
  "language_info": {
   "codemirror_mode": {
    "name": "ipython",
    "version": 3
   },
   "file_extension": ".py",
   "mimetype": "text/x-python",
   "name": "python",
   "nbconvert_exporter": "python",
   "pygments_lexer": "ipython3",
   "version": "3.8.5"
  }
 },
 "nbformat": 4,
 "nbformat_minor": 4
}
